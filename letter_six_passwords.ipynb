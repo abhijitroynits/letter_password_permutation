{
 "cells": [
  {
   "cell_type": "markdown",
   "metadata": {},
   "source": [
    "# Question Description"
   ]
  },
  {
   "cell_type": "markdown",
   "metadata": {},
   "source": [
    "Use Python to calculate how many different passwords can be formed with 6 lowercase English letters. For a 1 letter password, there would be 26 possibilities. For a 2 letter password, each letter is independent of the other, so there would be 26 times 26 possibilities. Using this information, print the amount of possible passwords that can be formed with 6 letters."
   ]
  },
  {
   "cell_type": "code",
   "execution_count": 1,
   "metadata": {},
   "outputs": [
    {
     "name": "stdout",
     "output_type": "stream",
     "text": [
      "List of all lowercase letters:\n",
      " ['a', 'b', 'c', 'd', 'e', 'f', 'g', 'h', 'i', 'j', 'k', 'l', 'm', 'n', 'o', 'p', 'q', 'r', 's', 't', 'u', 'v', 'w', 'x', 'y', 'z']\n",
      "Object type of the cartesian product:  <class 'itertools.product'>\n",
      "Length of the list having all possible 6-letter passwords:  308915776\n"
     ]
    }
   ],
   "source": [
    "# If permutation with repetition is allowed,\n",
    "#       for 1-letter password we have 26 possibilities\n",
    "#       for 2-letter passwords we have 26 * 26 possibilities\n",
    "#       for 6-letter passwords we have 26 * 26 * 26 * 26 * 26 * 26 = 308915776 possibilities\n",
    "\n",
    "import string\n",
    "from itertools import product # computes cartesian product of input iterables\n",
    "\n",
    "list_all_lowercase_letters = list(string.ascii_lowercase)  # list of all lowercase letters\n",
    "print('List of all lowercase letters:\\n', list_all_lowercase_letters)\n",
    "\n",
    "# We need 6-letter passwords with repetition of letters allowed\n",
    "perm_with_repetitions = product(list_all_lowercase_letters, repeat=6)  \n",
    "print('Object type of the cartesian product: ', type(perm_with_repetitions))\n",
    "\n",
    "# If we try to convert the cartesian product object directly to a list object, \n",
    "# we get MemoryError, that is, calculating len(list(perm_with_repetitions)) is computationally expensive.\n",
    "# Therefore, we adopt a lower-memory-footprint approach wherein we needn't create an actual list.\n",
    "length_of_permutation_list = sum(1 for item in perm_with_repetitions)\n",
    "print('Length of the list having all possible 6-letter passwords: ', length_of_permutation_list) # 308915776 = 26 ** 6 "
   ]
  }
 ],
 "metadata": {
  "kernelspec": {
   "display_name": "Python 3",
   "language": "python",
   "name": "python3"
  },
  "language_info": {
   "codemirror_mode": {
    "name": "ipython",
    "version": 3
   },
   "file_extension": ".py",
   "mimetype": "text/x-python",
   "name": "python",
   "nbconvert_exporter": "python",
   "pygments_lexer": "ipython3",
   "version": "3.7.3"
  }
 },
 "nbformat": 4,
 "nbformat_minor": 4
}
